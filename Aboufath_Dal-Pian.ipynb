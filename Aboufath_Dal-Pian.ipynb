{
 "cells": [
  {
   "cell_type": "code",
   "id": "initial_id",
   "metadata": {
    "collapsed": true,
    "ExecuteTime": {
     "end_time": "2025-02-12T15:38:40.383150Z",
     "start_time": "2025-02-12T15:38:40.376261Z"
    }
   },
   "source": [
    "from utils import *\n",
    "np.set_printoptions(threshold=10000, suppress=True)\n",
    "import pandas as pd\n",
    "import warnings\n",
    "from sklearn.model_selection import train_test_split\n",
    "warnings.filterwarnings('ignore')"
   ],
   "outputs": [],
   "execution_count": 5
  },
  {
   "metadata": {},
   "cell_type": "markdown",
   "source": "## I. Apprentissage supervisé : Feature engineering et Classification",
   "id": "d621cfd2469d8fd9"
  },
  {
   "metadata": {},
   "cell_type": "markdown",
   "source": "### Chargement des données et préparation",
   "id": "3fe0b10ca13e81b6"
  },
  {
   "metadata": {
    "ExecuteTime": {
     "end_time": "2025-02-12T15:38:40.640373Z",
     "start_time": "2025-02-12T15:38:40.603993Z"
    }
   },
   "cell_type": "code",
   "source": [
    "#Chargement des données depuis le csv\n",
    "data = pd.read_csv('credit_scoring.csv', sep=';')\n",
    "print(data.head())\n",
    "\n",
    "#Transformation du Data Frame en numpy Array\n",
    "data_array = data.values\n",
    "\n",
    "#Séparation variables caractéristiques et variable à prédire\n",
    "x = data_array[:,:-1]\n",
    "y = data_array[:,-1]\n",
    "\n",
    "#Analyse des données\n",
    "sample_size = x.shape[0]\n",
    "positive = (y == 1).mean() * 100\n",
    "negative = (y == 0).mean() * 100\n",
    "\n",
    "# Affichage de l'analyse\n",
    "print(f'tailles de l\\'échantillon : {sample_size}')\n",
    "print(f'pourcentages d\\'exemples positifs : {positive:.2f}')\n",
    "print(f'pourcentages d\\'exemples positifs : {negative:.2f}')\n",
    "\n",
    "#Séparer les données en deux\n",
    "x_train, x_test, y_train, y_test = train_test_split(x, y, test_size = 0.5, random_state = 1)"
   ],
   "id": "574863f417628414",
   "outputs": [
    {
     "name": "stdout",
     "output_type": "stream",
     "text": [
      "   Seniority  Home  Time   Age  Marital  Records  Job  Expenses  Income  \\\n",
      "0        9.0   1.0  60.0  30.0      0.0      1.0  1.0      73.0   129.0   \n",
      "1       17.0   1.0  60.0  58.0      1.0      1.0  0.0      48.0   131.0   \n",
      "2       10.0   0.0  36.0  46.0      0.0      2.0  1.0      90.0   200.0   \n",
      "3        0.0   1.0  60.0  24.0      1.0      1.0  0.0      63.0   182.0   \n",
      "4        0.0   1.0  36.0  26.0      1.0      1.0  0.0      46.0   107.0   \n",
      "\n",
      "   Assets  Debt  Amount   Price  Status  \n",
      "0     0.0   0.0   800.0   846.0       1  \n",
      "1     0.0   0.0  1000.0  1658.0       1  \n",
      "2  3000.0   0.0  2000.0  2985.0       0  \n",
      "3  2500.0   0.0   900.0  1325.0       1  \n",
      "4     0.0   0.0   310.0   910.0       1  \n",
      "tailles de l'échantillon : 4375\n",
      "pourcentages d'exemples positifs : 72.21\n",
      "pourcentages d'exemples positifs : 27.79\n"
     ]
    }
   ],
   "execution_count": 6
  },
  {
   "metadata": {},
   "cell_type": "markdown",
   "source": "### Apprentissage et évaluation de modèles",
   "id": "734407c7efa93bac"
  },
  {
   "metadata": {
    "ExecuteTime": {
     "end_time": "2025-02-12T15:38:46.294430Z",
     "start_time": "2025-02-12T15:38:40.653568Z"
    }
   },
   "cell_type": "code",
   "source": [
    "models ={\n",
    "    DecisionTreeClassifier(random_state = 1),\n",
    "    KNeighborsClassifier(n_neighbors = 5),\n",
    "    MLPClassifier(hidden_layer_sizes = (40,20), random_state = 1),\n",
    "}\n",
    "\n",
    "best_model, best_strategy, best_data = get_best_models(models, x_train, x_test, y_train, y_test)"
   ],
   "id": "c8fb7dd6707c038f",
   "outputs": [
    {
     "name": "stdout",
     "output_type": "stream",
     "text": [
      "--------------------------------MLPClassifier(normalisé)--------------------------------\n",
      "Train accuracy: 0.87\n",
      "Test accuracy: 0.78\n",
      "Precision score: 0.84\n",
      "Mean score: 0.81\n",
      "\n",
      "--------------------------------MLPClassifier(normal)--------------------------------\n",
      "Train accuracy: 0.67\n",
      "Test accuracy: 0.67\n",
      "Precision score: 0.84\n",
      "Mean score: 0.75\n",
      "\n",
      "--------------------------------MLPClassifier(pca)--------------------------------\n",
      "Train accuracy: 0.87\n",
      "Test accuracy: 0.77\n",
      "Precision score: 0.84\n",
      "Mean score: 0.80\n",
      "\n",
      "--------------------------------KNeighborsClassifier(normalisé)--------------------------------\n",
      "Train accuracy: 0.83\n",
      "Test accuracy: 0.75\n",
      "Precision score: 0.81\n",
      "Mean score: 0.78\n",
      "\n",
      "--------------------------------KNeighborsClassifier(normal)--------------------------------\n",
      "Train accuracy: 0.80\n",
      "Test accuracy: 0.72\n",
      "Precision score: 0.77\n",
      "Mean score: 0.75\n",
      "\n",
      "--------------------------------KNeighborsClassifier(pca)--------------------------------\n",
      "Train accuracy: 0.82\n",
      "Test accuracy: 0.76\n",
      "Precision score: 0.81\n",
      "Mean score: 0.78\n",
      "\n",
      "--------------------------------DecisionTreeClassifier(normalisé)--------------------------------\n",
      "Train accuracy: 1.00\n",
      "Test accuracy: 0.73\n",
      "Precision score: 0.82\n",
      "Mean score: 0.77\n",
      "\n",
      "--------------------------------DecisionTreeClassifier(normal)--------------------------------\n",
      "Train accuracy: 1.00\n",
      "Test accuracy: 0.73\n",
      "Precision score: 0.82\n",
      "Mean score: 0.77\n",
      "\n",
      "--------------------------------DecisionTreeClassifier(pca)--------------------------------\n",
      "Train accuracy: 1.00\n",
      "Test accuracy: 0.73\n",
      "Precision score: 0.82\n",
      "Mean score: 0.77\n",
      "\n",
      "--------------------------------Best Combinaison--------------------------------\n",
      "Best score: 0.81\n",
      "Best model: MLPClassifier\n",
      "Best strategy: normalisé\n"
     ]
    }
   ],
   "execution_count": 7
  },
  {
   "metadata": {
    "ExecuteTime": {
     "end_time": "2025-02-12T15:39:16.357251Z",
     "start_time": "2025-02-12T15:38:46.496420Z"
    }
   },
   "cell_type": "code",
   "source": "id_max, id_sorted = select_variables(best_model, best_data[0], best_data[1], y_train, y_test, False)",
   "id": "390d443378047dba",
   "outputs": [],
   "execution_count": 8
  },
  {
   "metadata": {
    "ExecuteTime": {
     "end_time": "2025-02-12T15:39:26.381523Z",
     "start_time": "2025-02-12T15:39:16.558335Z"
    }
   },
   "cell_type": "code",
   "source": [
    "param_grid = {\n",
    "    'hidden_layer_sizes': [(20,), (40, 20), (50, 25, 10)],\n",
    "    'activation': ['relu', 'sigmoid', 'tahn'],\n",
    "}\n",
    "\n",
    "new_best_model = best_parameters(best_model, param_grid, x_train, y_train, scoring='accuracy')\n",
    "print(new_best_model)\n",
    "new_best_model.fit(best_data[0], y_train)\n",
    "\n",
    "# Évaluation sur le test set\n",
    "y_pred = new_best_model.predict(best_data[1])\n",
    "print(\"\\nRapport de classification du meilleur modèle :\")\n",
    "print(precision_score(y_test, y_pred))"
   ],
   "id": "39588f72d4b5db49",
   "outputs": [
    {
     "name": "stdout",
     "output_type": "stream",
     "text": [
      "MLPClassifier(hidden_layer_sizes=(20,), random_state=1)\n",
      "\n",
      "Rapport de classification du meilleur modèle :\n",
      "0.8347156398104265\n"
     ]
    }
   ],
   "execution_count": 9
  },
  {
   "metadata": {
    "ExecuteTime": {
     "end_time": "2025-02-12T15:39:48.084411Z",
     "start_time": "2025-02-12T15:39:26.688562Z"
    }
   },
   "cell_type": "code",
   "source": "creation_pipeline(best_model,x,y,'pca',8)",
   "id": "7681cdc699739c76",
   "outputs": [],
   "execution_count": 10
  },
  {
   "metadata": {
    "ExecuteTime": {
     "end_time": "2025-02-12T15:45:35.213593Z",
     "start_time": "2025-02-12T15:39:49.642796Z"
    }
   },
   "cell_type": "code",
   "source": "train(x,y,\"custom\")",
   "id": "4f94208a52c92c50",
   "outputs": [
    {
     "name": "stdout",
     "output_type": "stream",
     "text": [
      "--------------------------------DecisionTreeClassifier(normalisé)--------------------------------\n",
      "Mean score: 0.76\n",
      "\n",
      "--------------------------------DecisionTreeClassifier(normal)--------------------------------\n",
      "Mean score: 0.76\n",
      "\n",
      "--------------------------------DecisionTreeClassifier(pca)--------------------------------\n",
      "Mean score: 0.76\n",
      "\n",
      "--------------------------------KNeighborsClassifier(normalisé)--------------------------------\n",
      "Mean score: 0.79\n",
      "\n",
      "--------------------------------KNeighborsClassifier(normal)--------------------------------\n",
      "Mean score: 0.74\n",
      "\n",
      "--------------------------------KNeighborsClassifier(pca)--------------------------------\n",
      "Mean score: 0.79\n",
      "\n",
      "--------------------------------AdaBoostClassifier(normalisé)--------------------------------\n",
      "Mean score: 0.81\n",
      "\n",
      "--------------------------------AdaBoostClassifier(normal)--------------------------------\n",
      "Mean score: 0.81\n",
      "\n",
      "--------------------------------AdaBoostClassifier(pca)--------------------------------\n",
      "Mean score: 0.81\n",
      "\n",
      "--------------------------------RandomForestClassifier(normalisé)--------------------------------\n",
      "Mean score: 0.80\n",
      "\n",
      "--------------------------------RandomForestClassifier(normal)--------------------------------\n",
      "Mean score: 0.80\n",
      "\n",
      "--------------------------------RandomForestClassifier(pca)--------------------------------\n",
      "Mean score: 0.80\n",
      "\n",
      "--------------------------------ExtraTreesClassifier(normalisé)--------------------------------\n",
      "Mean score: 0.80\n",
      "\n",
      "--------------------------------ExtraTreesClassifier(normal)--------------------------------\n",
      "Mean score: 0.80\n",
      "\n",
      "--------------------------------ExtraTreesClassifier(pca)--------------------------------\n",
      "Mean score: 0.80\n",
      "\n",
      "--------------------------------MLPClassifier(normalisé)--------------------------------\n",
      "Mean score: 0.81\n",
      "\n",
      "--------------------------------MLPClassifier(normal)--------------------------------\n",
      "Mean score: 0.74\n",
      "\n",
      "--------------------------------MLPClassifier(pca)--------------------------------\n",
      "Mean score: 0.81\n",
      "\n",
      "--------------------------------BaggingClassifier(normalisé)--------------------------------\n",
      "Mean score: 0.80\n",
      "\n",
      "--------------------------------BaggingClassifier(normal)--------------------------------\n",
      "Mean score: 0.80\n",
      "\n",
      "--------------------------------BaggingClassifier(pca)--------------------------------\n",
      "Mean score: 0.80\n",
      "\n",
      "--------------------------------Best Combinaison--------------------------------\n",
      "Best score: 0.81\n",
      "Best model: MLPClassifier\n",
      "Best strategy: pca\n"
     ]
    },
    {
     "data": {
      "text/plain": [
       "(MLPClassifier(activation='tanh', hidden_layer_sizes=(20,), random_state=1),\n",
       " 'pca',\n",
       " np.int64(14))"
      ]
     },
     "execution_count": 12,
     "metadata": {},
     "output_type": "execute_result"
    }
   ],
   "execution_count": 12
  },
  {
   "metadata": {
    "ExecuteTime": {
     "end_time": "2025-02-12T15:45:36.988350Z",
     "start_time": "2025-02-12T15:45:35.775030Z"
    }
   },
   "cell_type": "code",
   "source": [
    "pipeline_chargée = joblib.load('pipeline.joblib')\n",
    "y_pred = pipeline_chargée.predict(x)\n",
    "print(avg_precision_accuracy_score(y,y_pred))"
   ],
   "id": "22dd188c884aae76",
   "outputs": [
    {
     "name": "stdout",
     "output_type": "stream",
     "text": [
      "0.8121216041819815\n"
     ]
    }
   ],
   "execution_count": 13
  }
 ],
 "metadata": {
  "kernelspec": {
   "display_name": "Python 3",
   "language": "python",
   "name": "python3"
  },
  "language_info": {
   "codemirror_mode": {
    "name": "ipython",
    "version": 2
   },
   "file_extension": ".py",
   "mimetype": "text/x-python",
   "name": "python",
   "nbconvert_exporter": "python",
   "pygments_lexer": "ipython2",
   "version": "2.7.6"
  }
 },
 "nbformat": 4,
 "nbformat_minor": 5
}
