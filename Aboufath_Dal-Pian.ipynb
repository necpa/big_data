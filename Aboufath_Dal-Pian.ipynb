{
 "cells": [
  {
   "cell_type": "code",
   "id": "initial_id",
   "metadata": {
    "collapsed": true,
    "ExecuteTime": {
     "end_time": "2025-02-17T13:06:23.234518Z",
     "start_time": "2025-02-17T13:06:23.221615Z"
    }
   },
   "source": [
    "from utils import *\n",
    "np.set_printoptions(threshold=10000, suppress=True)\n",
    "import pandas as pd\n",
    "import warnings\n",
    "from sklearn.model_selection import train_test_split\n",
    "warnings.filterwarnings('ignore')"
   ],
   "outputs": [],
   "execution_count": 7
  },
  {
   "cell_type": "markdown",
   "id": "d621cfd2469d8fd9",
   "metadata": {},
   "source": [
    "## I. Apprentissage supervisé : Feature engineering et Classification"
   ]
  },
  {
   "cell_type": "markdown",
   "id": "3fe0b10ca13e81b6",
   "metadata": {},
   "source": [
    "### Chargement des données et préparation"
   ]
  },
  {
   "cell_type": "code",
   "id": "574863f417628414",
   "metadata": {
    "ExecuteTime": {
     "end_time": "2025-02-17T13:06:26.239244Z",
     "start_time": "2025-02-17T13:06:26.170204Z"
    }
   },
   "source": [
    "#Chargement des données depuis le csv\n",
    "data = pd.read_csv('credit_scoring.csv', sep=';')\n",
    "print(data.head())\n",
    "\n",
    "#Transformation du Data Frame en numpy Array\n",
    "data_array = data.values\n",
    "\n",
    "#Séparation variables caractéristiques et variable à prédire\n",
    "x = data_array[:,:-1]\n",
    "y = data_array[:,-1]"
   ],
   "outputs": [
    {
     "name": "stdout",
     "output_type": "stream",
     "text": [
      "   Seniority  Home  Time   Age  Marital  Records  Job  Expenses  Income  \\\n",
      "0        9.0   1.0  60.0  30.0      0.0      1.0  1.0      73.0   129.0   \n",
      "1       17.0   1.0  60.0  58.0      1.0      1.0  0.0      48.0   131.0   \n",
      "2       10.0   0.0  36.0  46.0      0.0      2.0  1.0      90.0   200.0   \n",
      "3        0.0   1.0  60.0  24.0      1.0      1.0  0.0      63.0   182.0   \n",
      "4        0.0   1.0  36.0  26.0      1.0      1.0  0.0      46.0   107.0   \n",
      "\n",
      "   Assets  Debt  Amount   Price  Status  \n",
      "0     0.0   0.0   800.0   846.0       1  \n",
      "1     0.0   0.0  1000.0  1658.0       1  \n",
      "2  3000.0   0.0  2000.0  2985.0       0  \n",
      "3  2500.0   0.0   900.0  1325.0       1  \n",
      "4     0.0   0.0   310.0   910.0       1  \n"
     ]
    }
   ],
   "execution_count": 8
  },
  {
   "cell_type": "markdown",
   "id": "734407c7efa93bac",
   "metadata": {},
   "source": [
    "### Apprentissage et évaluation de modèles"
   ]
  },
  {
   "cell_type": "code",
   "id": "4f94208a52c92c50",
   "metadata": {
    "ExecuteTime": {
     "end_time": "2025-02-17T13:15:22.764136Z",
     "start_time": "2025-02-17T13:06:28.167044Z"
    }
   },
   "source": [
    "train(x,y,\"custom\")"
   ],
   "outputs": [
    {
     "name": "stdout",
     "output_type": "stream",
     "text": [
      "--------------------------------DecisionTreeClassifier(pca)--------------------------------\n",
      "Mean score: 0.76\n",
      "\n",
      "--------------------------------DecisionTreeClassifier(normal)--------------------------------\n",
      "Mean score: 0.76\n",
      "\n",
      "--------------------------------DecisionTreeClassifier(normalisé)--------------------------------\n",
      "Mean score: 0.76\n",
      "\n",
      "--------------------------------KNeighborsClassifier(pca)--------------------------------\n",
      "Mean score: 0.79\n",
      "\n",
      "--------------------------------KNeighborsClassifier(normal)--------------------------------\n",
      "Mean score: 0.74\n",
      "\n",
      "--------------------------------KNeighborsClassifier(normalisé)--------------------------------\n",
      "Mean score: 0.79\n",
      "\n",
      "--------------------------------AdaBoostClassifier(pca)--------------------------------\n",
      "Mean score: 0.81\n",
      "\n",
      "--------------------------------AdaBoostClassifier(normal)--------------------------------\n",
      "Mean score: 0.81\n",
      "\n",
      "--------------------------------AdaBoostClassifier(normalisé)--------------------------------\n",
      "Mean score: 0.81\n",
      "\n",
      "--------------------------------RandomForestClassifier(pca)--------------------------------\n",
      "Mean score: 0.80\n",
      "\n",
      "--------------------------------RandomForestClassifier(normal)--------------------------------\n",
      "Mean score: 0.80\n",
      "\n",
      "--------------------------------RandomForestClassifier(normalisé)--------------------------------\n",
      "Mean score: 0.80\n",
      "\n",
      "--------------------------------ExtraTreesClassifier(pca)--------------------------------\n",
      "Mean score: 0.80\n",
      "\n",
      "--------------------------------ExtraTreesClassifier(normal)--------------------------------\n",
      "Mean score: 0.80\n",
      "\n",
      "--------------------------------ExtraTreesClassifier(normalisé)--------------------------------\n",
      "Mean score: 0.80\n",
      "\n",
      "--------------------------------MLPClassifier(pca)--------------------------------\n",
      "Mean score: 0.81\n",
      "\n",
      "--------------------------------MLPClassifier(normal)--------------------------------\n",
      "Mean score: 0.74\n",
      "\n",
      "--------------------------------MLPClassifier(normalisé)--------------------------------\n",
      "Mean score: 0.81\n",
      "\n",
      "--------------------------------BaggingClassifier(pca)--------------------------------\n",
      "Mean score: 0.80\n",
      "\n",
      "--------------------------------BaggingClassifier(normal)--------------------------------\n",
      "Mean score: 0.80\n",
      "\n",
      "--------------------------------BaggingClassifier(normalisé)--------------------------------\n",
      "Mean score: 0.80\n",
      "\n",
      "--------------------------------Best Combinaison--------------------------------\n",
      "Best score: 0.81\n",
      "Best model: MLPClassifier\n",
      "Best strategy: pca\n"
     ]
    },
    {
     "data": {
      "text/plain": [
       "(MLPClassifier(activation='tanh', hidden_layer_sizes=(20,), random_state=1),\n",
       " 'pca',\n",
       " np.int64(14))"
      ]
     },
     "execution_count": 9,
     "metadata": {},
     "output_type": "execute_result"
    }
   ],
   "execution_count": 9
  },
  {
   "cell_type": "code",
   "id": "22dd188c884aae76",
   "metadata": {
    "ExecuteTime": {
     "end_time": "2025-02-17T12:07:53.884018Z",
     "start_time": "2025-02-17T12:07:51.830198Z"
    }
   },
   "source": [
    "pipeline_chargée = joblib.load('pipeline.joblib')\n",
    "y_pred = pipeline_chargée.predict(x)\n",
    "print(avg_precision_accuracy_score(y,y_pred))"
   ],
   "outputs": [
    {
     "name": "stdout",
     "output_type": "stream",
     "text": [
      "0.8121216041819815\n"
     ]
    }
   ],
   "execution_count": 4
  },
  {
   "cell_type": "markdown",
   "id": "93a3bbeb",
   "metadata": {},
   "source": [
    "## II. Apprentissage supervisé : Données hétérogènes"
   ]
  },
  {
   "cell_type": "markdown",
   "id": "43d5bfe5",
   "metadata": {},
   "source": [
    "### Chargement des données et préparation"
   ]
  },
  {
   "cell_type": "code",
   "id": "9c2c7a41",
   "metadata": {
    "ExecuteTime": {
     "end_time": "2025-02-17T12:16:40.897886Z",
     "start_time": "2025-02-17T12:07:54.001788Z"
    }
   },
   "source": [
    "from utils import *\n",
    "X, y, num_cols, cat_cols = load_and_prepare_data(\"credit.data\")\n",
    "X_num, X_cat, y = handle_missing_values(X, y, num_cols, cat_cols)\n",
    "X_processed = encode_and_normalize(X_num, X_cat)\n",
    "\n",
    "train(X_processed, y, \"roc_auc\")"
   ],
   "outputs": [
    {
     "name": "stdout",
     "output_type": "stream",
     "text": [
      "Colonnes numériques : [1, 2, 7, 10, 13, 14]\n",
      "Colonnes catégorielles : [0, 3, 4, 5, 6, 8, 9, 11, 12]\n",
      "Nombre d'exemples positifs : 305\n",
      "Nombre d'exemples négatifs : 383\n",
      "--------------------------------DecisionTreeClassifier(pca)--------------------------------\n",
      "Mean score: 0.79\n",
      "\n",
      "--------------------------------DecisionTreeClassifier(normal)--------------------------------\n",
      "Mean score: 0.81\n",
      "\n",
      "--------------------------------DecisionTreeClassifier(normalisé)--------------------------------\n",
      "Mean score: 0.81\n",
      "\n",
      "--------------------------------KNeighborsClassifier(pca)--------------------------------\n",
      "Mean score: 0.84\n",
      "\n",
      "--------------------------------KNeighborsClassifier(normal)--------------------------------\n",
      "Mean score: 0.82\n",
      "\n",
      "--------------------------------KNeighborsClassifier(normalisé)--------------------------------\n",
      "Mean score: 0.81\n",
      "\n",
      "--------------------------------AdaBoostClassifier(pca)--------------------------------\n",
      "Mean score: 0.84\n",
      "\n",
      "--------------------------------AdaBoostClassifier(normal)--------------------------------\n",
      "Mean score: 0.84\n",
      "\n",
      "--------------------------------AdaBoostClassifier(normalisé)--------------------------------\n",
      "Mean score: 0.84\n",
      "\n",
      "--------------------------------RandomForestClassifier(pca)--------------------------------\n",
      "Mean score: 0.84\n",
      "\n",
      "--------------------------------RandomForestClassifier(normal)--------------------------------\n",
      "Mean score: 0.84\n",
      "\n",
      "--------------------------------RandomForestClassifier(normalisé)--------------------------------\n",
      "Mean score: 0.84\n",
      "\n",
      "--------------------------------ExtraTreesClassifier(pca)--------------------------------\n",
      "Mean score: 0.83\n",
      "\n",
      "--------------------------------ExtraTreesClassifier(normal)--------------------------------\n",
      "Mean score: 0.83\n",
      "\n",
      "--------------------------------ExtraTreesClassifier(normalisé)--------------------------------\n",
      "Mean score: 0.83\n",
      "\n",
      "--------------------------------MLPClassifier(pca)--------------------------------\n",
      "Mean score: 0.83\n",
      "\n",
      "--------------------------------MLPClassifier(normal)--------------------------------\n",
      "Mean score: 0.84\n",
      "\n",
      "--------------------------------MLPClassifier(normalisé)--------------------------------\n",
      "Mean score: 0.83\n",
      "\n",
      "--------------------------------BaggingClassifier(pca)--------------------------------\n",
      "Mean score: 0.85\n",
      "\n",
      "--------------------------------BaggingClassifier(normal)--------------------------------\n",
      "Mean score: 0.84\n",
      "\n",
      "--------------------------------BaggingClassifier(normalisé)--------------------------------\n",
      "Mean score: 0.84\n",
      "\n",
      "--------------------------------Best Combinaison--------------------------------\n",
      "Best score: 0.85\n",
      "Best model: BaggingClassifier\n",
      "Best strategy: pca\n"
     ]
    },
    {
     "data": {
      "text/plain": [
       "(BaggingClassifier(n_estimators=500, random_state=1), 'pca', np.int64(2))"
      ]
     },
     "execution_count": 5,
     "metadata": {},
     "output_type": "execute_result"
    }
   ],
   "execution_count": 5
  }
 ],
 "metadata": {
  "kernelspec": {
   "display_name": "Python 3",
   "language": "python",
   "name": "python3"
  },
  "language_info": {
   "codemirror_mode": {
    "name": "ipython",
    "version": 3
   },
   "file_extension": ".py",
   "mimetype": "text/x-python",
   "name": "python",
   "nbconvert_exporter": "python",
   "pygments_lexer": "ipython3",
   "version": "3.12.6"
  }
 },
 "nbformat": 4,
 "nbformat_minor": 5
}
